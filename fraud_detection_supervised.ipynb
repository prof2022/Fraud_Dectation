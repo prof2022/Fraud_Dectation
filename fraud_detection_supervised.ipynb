{
 "cells": [
  {
   "cell_type": "code",
   "execution_count": 1,
   "metadata": {},
   "outputs": [],
   "source": [
    "import pandas as pd\n",
    "from sklearn.ensemble import RandomForestClassifier, VotingClassifier\n",
    "from sklearn.linear_model import LogisticRegression\n",
    "from sklearn.model_selection import train_test_split, GridSearchCV\n",
    "from sklearn.metrics import accuracy_score, classification_report, confusion_matrix, roc_auc_score\n",
    "from sklearn.metrics import average_precision_score, precision_recall_curve\n",
    "import matplotlib.pyplot as plt\n",
    "from sklearn.tree import DecisionTreeClassifier\n",
    "\n",
    "\n",
    "cc2 = pd.read_csv('chapter_2/creditcard_sampledata_2.csv')\n",
    "df = pd.DataFrame(cc2)"
   ]
  },
  {
   "cell_type": "code",
   "execution_count": 2,
   "metadata": {},
   "outputs": [
    {
     "data": {
      "text/html": [
       "<div>\n",
       "<style scoped>\n",
       "    .dataframe tbody tr th:only-of-type {\n",
       "        vertical-align: middle;\n",
       "    }\n",
       "\n",
       "    .dataframe tbody tr th {\n",
       "        vertical-align: top;\n",
       "    }\n",
       "\n",
       "    .dataframe thead th {\n",
       "        text-align: right;\n",
       "    }\n",
       "</style>\n",
       "<table border=\"1\" class=\"dataframe\">\n",
       "  <thead>\n",
       "    <tr style=\"text-align: right;\">\n",
       "      <th></th>\n",
       "      <th>Unnamed: 0</th>\n",
       "      <th>V1</th>\n",
       "      <th>V2</th>\n",
       "      <th>V3</th>\n",
       "      <th>V4</th>\n",
       "      <th>V5</th>\n",
       "      <th>V6</th>\n",
       "      <th>V7</th>\n",
       "      <th>V8</th>\n",
       "      <th>V9</th>\n",
       "      <th>...</th>\n",
       "      <th>V21</th>\n",
       "      <th>V22</th>\n",
       "      <th>V23</th>\n",
       "      <th>V24</th>\n",
       "      <th>V25</th>\n",
       "      <th>V26</th>\n",
       "      <th>V27</th>\n",
       "      <th>V28</th>\n",
       "      <th>Amount</th>\n",
       "      <th>Class</th>\n",
       "    </tr>\n",
       "  </thead>\n",
       "  <tbody>\n",
       "    <tr>\n",
       "      <th>0</th>\n",
       "      <td>221547</td>\n",
       "      <td>-1.191668</td>\n",
       "      <td>0.428409</td>\n",
       "      <td>1.640028</td>\n",
       "      <td>-1.848859</td>\n",
       "      <td>-0.870903</td>\n",
       "      <td>-0.204849</td>\n",
       "      <td>-0.385675</td>\n",
       "      <td>0.352793</td>\n",
       "      <td>-1.098301</td>\n",
       "      <td>...</td>\n",
       "      <td>0.507173</td>\n",
       "      <td>1.292565</td>\n",
       "      <td>-0.467752</td>\n",
       "      <td>1.244887</td>\n",
       "      <td>0.697707</td>\n",
       "      <td>0.059375</td>\n",
       "      <td>-0.319964</td>\n",
       "      <td>-0.017444</td>\n",
       "      <td>27.44</td>\n",
       "      <td>0</td>\n",
       "    </tr>\n",
       "    <tr>\n",
       "      <th>1</th>\n",
       "      <td>184524</td>\n",
       "      <td>1.966614</td>\n",
       "      <td>-0.450087</td>\n",
       "      <td>-1.228586</td>\n",
       "      <td>0.142873</td>\n",
       "      <td>-0.150627</td>\n",
       "      <td>-0.543590</td>\n",
       "      <td>-0.076217</td>\n",
       "      <td>-0.108390</td>\n",
       "      <td>0.973310</td>\n",
       "      <td>...</td>\n",
       "      <td>0.124055</td>\n",
       "      <td>0.564916</td>\n",
       "      <td>-0.039331</td>\n",
       "      <td>-0.283904</td>\n",
       "      <td>0.186400</td>\n",
       "      <td>0.192932</td>\n",
       "      <td>-0.039155</td>\n",
       "      <td>-0.071314</td>\n",
       "      <td>35.95</td>\n",
       "      <td>0</td>\n",
       "    </tr>\n",
       "    <tr>\n",
       "      <th>2</th>\n",
       "      <td>91201</td>\n",
       "      <td>1.528452</td>\n",
       "      <td>-1.296191</td>\n",
       "      <td>-0.890677</td>\n",
       "      <td>-2.504028</td>\n",
       "      <td>0.803202</td>\n",
       "      <td>3.350793</td>\n",
       "      <td>-1.633016</td>\n",
       "      <td>0.815350</td>\n",
       "      <td>-1.884692</td>\n",
       "      <td>...</td>\n",
       "      <td>-0.412088</td>\n",
       "      <td>-1.017485</td>\n",
       "      <td>0.129566</td>\n",
       "      <td>0.948048</td>\n",
       "      <td>0.287826</td>\n",
       "      <td>-0.396592</td>\n",
       "      <td>0.042997</td>\n",
       "      <td>0.025853</td>\n",
       "      <td>28.40</td>\n",
       "      <td>0</td>\n",
       "    </tr>\n",
       "    <tr>\n",
       "      <th>3</th>\n",
       "      <td>26115</td>\n",
       "      <td>-0.774614</td>\n",
       "      <td>1.100916</td>\n",
       "      <td>0.679080</td>\n",
       "      <td>1.034016</td>\n",
       "      <td>0.168633</td>\n",
       "      <td>0.874582</td>\n",
       "      <td>0.209454</td>\n",
       "      <td>0.770550</td>\n",
       "      <td>-0.558106</td>\n",
       "      <td>...</td>\n",
       "      <td>0.011158</td>\n",
       "      <td>0.146017</td>\n",
       "      <td>-0.130401</td>\n",
       "      <td>-0.848815</td>\n",
       "      <td>0.005698</td>\n",
       "      <td>-0.183295</td>\n",
       "      <td>0.282940</td>\n",
       "      <td>0.123856</td>\n",
       "      <td>43.20</td>\n",
       "      <td>0</td>\n",
       "    </tr>\n",
       "    <tr>\n",
       "      <th>4</th>\n",
       "      <td>201292</td>\n",
       "      <td>-1.075860</td>\n",
       "      <td>1.361160</td>\n",
       "      <td>1.496972</td>\n",
       "      <td>2.242604</td>\n",
       "      <td>1.314751</td>\n",
       "      <td>0.272787</td>\n",
       "      <td>1.005246</td>\n",
       "      <td>0.132932</td>\n",
       "      <td>-1.558317</td>\n",
       "      <td>...</td>\n",
       "      <td>0.254485</td>\n",
       "      <td>0.530692</td>\n",
       "      <td>-0.651119</td>\n",
       "      <td>0.626389</td>\n",
       "      <td>1.040212</td>\n",
       "      <td>0.249501</td>\n",
       "      <td>-0.146745</td>\n",
       "      <td>0.029714</td>\n",
       "      <td>10.59</td>\n",
       "      <td>0</td>\n",
       "    </tr>\n",
       "  </tbody>\n",
       "</table>\n",
       "<p>5 rows × 31 columns</p>\n",
       "</div>"
      ],
      "text/plain": [
       "   Unnamed: 0        V1        V2        V3        V4        V5        V6  \\\n",
       "0      221547 -1.191668  0.428409  1.640028 -1.848859 -0.870903 -0.204849   \n",
       "1      184524  1.966614 -0.450087 -1.228586  0.142873 -0.150627 -0.543590   \n",
       "2       91201  1.528452 -1.296191 -0.890677 -2.504028  0.803202  3.350793   \n",
       "3       26115 -0.774614  1.100916  0.679080  1.034016  0.168633  0.874582   \n",
       "4      201292 -1.075860  1.361160  1.496972  2.242604  1.314751  0.272787   \n",
       "\n",
       "         V7        V8        V9  ...       V21       V22       V23       V24  \\\n",
       "0 -0.385675  0.352793 -1.098301  ...  0.507173  1.292565 -0.467752  1.244887   \n",
       "1 -0.076217 -0.108390  0.973310  ...  0.124055  0.564916 -0.039331 -0.283904   \n",
       "2 -1.633016  0.815350 -1.884692  ... -0.412088 -1.017485  0.129566  0.948048   \n",
       "3  0.209454  0.770550 -0.558106  ...  0.011158  0.146017 -0.130401 -0.848815   \n",
       "4  1.005246  0.132932 -1.558317  ...  0.254485  0.530692 -0.651119  0.626389   \n",
       "\n",
       "        V25       V26       V27       V28  Amount  Class  \n",
       "0  0.697707  0.059375 -0.319964 -0.017444   27.44      0  \n",
       "1  0.186400  0.192932 -0.039155 -0.071314   35.95      0  \n",
       "2  0.287826 -0.396592  0.042997  0.025853   28.40      0  \n",
       "3  0.005698 -0.183295  0.282940  0.123856   43.20      0  \n",
       "4  1.040212  0.249501 -0.146745  0.029714   10.59      0  \n",
       "\n",
       "[5 rows x 31 columns]"
      ]
     },
     "execution_count": 2,
     "metadata": {},
     "output_type": "execute_result"
    }
   ],
   "source": [
    "df.head()"
   ]
  },
  {
   "cell_type": "code",
   "execution_count": 3,
   "metadata": {},
   "outputs": [
    {
     "data": {
      "text/plain": [
       "(7300, 31)"
      ]
     },
     "execution_count": 3,
     "metadata": {},
     "output_type": "execute_result"
    }
   ],
   "source": [
    "df.shape"
   ]
  },
  {
   "cell_type": "code",
   "execution_count": 4,
   "metadata": {},
   "outputs": [],
   "source": [
    "X = df.drop('Class', axis=1)\n",
    "y = df['Class']"
   ]
  },
  {
   "cell_type": "code",
   "execution_count": 5,
   "metadata": {},
   "outputs": [
    {
     "data": {
      "text/plain": [
       "95.8904109589041"
      ]
     },
     "execution_count": 5,
     "metadata": {},
     "output_type": "execute_result"
    }
   ],
   "source": [
    "total_obs = len(y)\n",
    "total_obs\n",
    "\n",
    "non_fraud = [i for i in y if i == 0]\n",
    "count_non_fraud = non_fraud.count(0)\n",
    "\n",
    "percentage = (float(count_non_fraud)/ float(total_obs)) * 100\n",
    "percentage"
   ]
  },
  {
   "cell_type": "code",
   "execution_count": 6,
   "metadata": {},
   "outputs": [],
   "source": [
    "# split dataset into train and test\n",
    "\n",
    "train_X, test_X, train_Y, test_Y = train_test_split(X, y, test_size=0.3)\n",
    "\n",
    "# build model without any parameter tuning\n",
    "random_forest = RandomForestClassifier(random_state=5)\n",
    "random_forest.fit(train_X, train_Y)\n",
    "prediction = random_forest.predict(test_X)\n"
   ]
  },
  {
   "cell_type": "code",
   "execution_count": 7,
   "metadata": {},
   "outputs": [
    {
     "name": "stdout",
     "output_type": "stream",
     "text": [
      "Accuracy score:\n",
      " 0.991324200913242\n",
      "Classification_report:\n",
      "               precision    recall  f1-score   support\n",
      "\n",
      "           0       0.99      1.00      1.00      2094\n",
      "           1       1.00      0.80      0.89        96\n",
      "\n",
      "    accuracy                           0.99      2190\n",
      "   macro avg       1.00      0.90      0.94      2190\n",
      "weighted avg       0.99      0.99      0.99      2190\n",
      "\n",
      "AUC Score:\n",
      " 0.975308918338109\n",
      "Confusion Matrix:\n",
      " [[2094    0]\n",
      " [  19   77]]\n"
     ]
    }
   ],
   "source": [
    "# performance metrics\n",
    "probs = random_forest.predict_proba(test_X)\n",
    "print(\"Accuracy score:\\n\", accuracy_score(test_Y, prediction))\n",
    "print(\"Classification_report:\\n\",classification_report(test_Y, prediction))\n",
    "print(\"AUC Score:\\n\",roc_auc_score(test_Y, probs[:, 1]))\n",
    "print(\"Confusion Matrix:\\n\",confusion_matrix(test_Y, prediction))\n"
   ]
  },
  {
   "cell_type": "code",
   "execution_count": 8,
   "metadata": {},
   "outputs": [],
   "source": [
    "def plot_pr_curve(recall, precision, average_precision):\n",
    "    \"\"\"\n",
    "    https://scikit-learn.org/stable/auto_examples/model_selection/plot_precision_recall.html\n",
    "    \"\"\"\n",
    "    from inspect import signature\n",
    "    plt.figure()\n",
    "    step_kwargs = ({'step': 'post'}\n",
    "                   if 'step' in signature(plt.fill_between).parameters\n",
    "                   else {})\n",
    "\n",
    "    plt.step(recall, precision, color='b', alpha=0.2, where='post')\n",
    "    plt.fill_between(recall, precision, alpha=0.2, color='b', **step_kwargs)\n",
    "\n",
    "    plt.xlabel('Recall')\n",
    "    plt.ylabel('Precision')\n",
    "    plt.ylim([0.0, 1.0])\n",
    "    plt.xlim([0.0, 1.0])\n",
    "    plt.title(f'2-class Precision-Recall curve: AP={average_precision:0.2f}')\n",
    "    return plt.show()"
   ]
  },
  {
   "cell_type": "code",
   "execution_count": 9,
   "metadata": {},
   "outputs": [
    {
     "data": {
      "image/png": "[encoded data removed]",
      "text/plain": [
       "<Figure size 432x288 with 1 Axes>"
      ]
     },
     "metadata": {
      "needs_background": "light"
     },
     "output_type": "display_data"
    }
   ],
   "source": [
    "# average precison and precison recal curve\n",
    "\n",
    "average_precision = average_precision_score(test_Y, prediction)\n",
    "precision, recall, _ = precision_recall_curve(test_Y, prediction)\n",
    "\n",
    "plot_pr_curve(recall, precision, average_precision)"
   ]
  },
  {
   "cell_type": "code",
   "execution_count": 10,
   "metadata": {},
   "outputs": [
    {
     "name": "stdout",
     "output_type": "stream",
     "text": [
      "Accuracy score:\n",
      " 0.9908675799086758\n",
      "Classification_report:\n",
      "               precision    recall  f1-score   support\n",
      "\n",
      "           0       0.99      1.00      1.00      2094\n",
      "           1       1.00      0.79      0.88        96\n",
      "\n",
      "    accuracy                           0.99      2190\n",
      "   macro avg       1.00      0.90      0.94      2190\n",
      "weighted avg       0.99      0.99      0.99      2190\n",
      "\n",
      "AUC Score:\n",
      " 0.9657876671442216\n",
      "Confusion Matrix:\n",
      " [[2094    0]\n",
      " [  20   76]]\n"
     ]
    }
   ],
   "source": [
    "# model adjustments\n",
    "rf = RandomForestClassifier(class_weight='balanced_subsample', random_state=5)\n",
    "model = rf.fit(train_X, train_Y)\n",
    "\n",
    "predicted = model.predict(test_X)\n",
    "probs = model.predict_proba(test_X)\n",
    "\n",
    "print(\"Accuracy score:\\n\", accuracy_score(test_Y, predicted))\n",
    "print(\"Classification_report:\\n\",classification_report(test_Y, predicted))\n",
    "print(\"AUC Score:\\n\",roc_auc_score(test_Y, probs[:, 1]))\n",
    "print(\"Confusion Matrix:\\n\",confusion_matrix(test_Y, predicted))"
   ]
  },
  {
   "cell_type": "code",
   "execution_count": 11,
   "metadata": {},
   "outputs": [
    {
     "data": {
      "text/plain": [
       "{'criterion': 'gini',\n",
       " 'max_depth': 8,\n",
       " 'max_features': 'auto',\n",
       " 'n_estimators': 30}"
      ]
     },
     "execution_count": 11,
     "metadata": {},
     "output_type": "execute_result"
    }
   ],
   "source": [
    "# gridsearch to find optimal parameters\n",
    "\n",
    "param_grid = {\n",
    "    'n_estimators': [1, 30],\n",
    "    'max_features': ['auto', 'log2'],\n",
    "    'max_depth': [4, 8],\n",
    "    'criterion': ['gini', 'entropy']\n",
    "}\n",
    "\n",
    "rf2 = RandomForestClassifier(random_state=5)\n",
    "\n",
    "cv_model = GridSearchCV(estimator=rf2, param_grid=param_grid, cv=5, scoring='recall')\n",
    "cv_model.fit(train_X, train_Y)\n",
    "cv_model.best_params_"
   ]
  },
  {
   "cell_type": "code",
   "execution_count": 12,
   "metadata": {},
   "outputs": [
    {
     "name": "stdout",
     "output_type": "stream",
     "text": [
      "Accuracy score:\n",
      " 0.9917808219178083\n",
      "Classification_report:\n",
      "               precision    recall  f1-score   support\n",
      "\n",
      "           0       0.99      1.00      1.00      2094\n",
      "           1       0.99      0.82      0.90        96\n",
      "\n",
      "    accuracy                           0.99      2190\n",
      "   macro avg       0.99      0.91      0.95      2190\n",
      "weighted avg       0.99      0.99      0.99      2190\n",
      "\n",
      "AUC Score:\n",
      " 0.9629745702005731\n",
      "Confusion Matrix:\n",
      " [[2093    1]\n",
      " [  17   79]]\n"
     ]
    }
   ],
   "source": [
    "# new model \n",
    "model = RandomForestClassifier(class_weight={0:1, 1:12}, criterion='gini', max_features='log2', \n",
    "            n_estimators=30, max_depth=8, min_samples_leaf=10, random_state=5)\n",
    "model.fit(train_X, train_Y)\n",
    "\n",
    "predicted = model.predict(test_X)\n",
    "probs = model.predict_proba(test_X)\n",
    "\n",
    "print(\"Accuracy score:\\n\", accuracy_score(test_Y, predicted))\n",
    "print(\"Classification_report:\\n\",classification_report(test_Y, predicted))\n",
    "print(\"AUC Score:\\n\",roc_auc_score(test_Y, probs[:, 1]))\n",
    "print(\"Confusion Matrix:\\n\",confusion_matrix(test_Y, predicted))"
   ]
  },
  {
   "cell_type": "code",
   "execution_count": 13,
   "metadata": {},
   "outputs": [
    {
     "name": "stdout",
     "output_type": "stream",
     "text": [
      "Accuracy score:\n",
      " 0.9616438356164384\n",
      "Classification_report:\n",
      "               precision    recall  f1-score   support\n",
      "\n",
      "           0       0.99      0.97      0.98      2094\n",
      "           1       0.54      0.85      0.66        96\n",
      "\n",
      "    accuracy                           0.96      2190\n",
      "   macro avg       0.77      0.91      0.82      2190\n",
      "weighted avg       0.97      0.96      0.97      2190\n",
      "\n",
      "AUC Score:\n",
      " 0.9592237742757085\n",
      "Confusion Matrix:\n",
      " [[2024   70]\n",
      " [  14   82]]\n"
     ]
    }
   ],
   "source": [
    "logit = LogisticRegression(class_weight={0:1, 1:15}, random_state=5)\n",
    "logit.fit(train_X, train_Y)\n",
    "\n",
    "predicted = logit.predict(test_X)\n",
    "probs = logit.predict_proba(test_X)\n",
    "\n",
    "print(\"Accuracy score:\\n\", accuracy_score(test_Y, predicted))\n",
    "print(\"Classification_report:\\n\",classification_report(test_Y, predicted))\n",
    "print(\"AUC Score:\\n\",roc_auc_score(test_Y, probs[:, 1]))\n",
    "print(\"Confusion Matrix:\\n\",confusion_matrix(test_Y, predicted))"
   ]
  },
  {
   "cell_type": "code",
   "execution_count": 14,
   "metadata": {},
   "outputs": [
    {
     "name": "stdout",
     "output_type": "stream",
     "text": [
      "Accuracy score:\n",
      " 0.991324200913242\n",
      "Classification_report:\n",
      "               precision    recall  f1-score   support\n",
      "\n",
      "           0       0.99      1.00      1.00      2094\n",
      "           1       0.98      0.82      0.89        96\n",
      "\n",
      "    accuracy                           0.99      2190\n",
      "   macro avg       0.98      0.91      0.94      2190\n",
      "weighted avg       0.99      0.99      0.99      2190\n",
      "\n",
      "Confusion Matrix:\n",
      " [[2092    2]\n",
      " [  17   79]]\n"
     ]
    }
   ],
   "source": [
    "# ENSEMBLE METHOD\n",
    "\n",
    "clf1 = logit\n",
    "clf2 = model\n",
    "clf3 = DecisionTreeClassifier(class_weight='balanced', random_state=5)\n",
    "\n",
    "# you can remove weights and change voting to hard\n",
    "ensemble_model = VotingClassifier(estimators=[('lr', logit), ('rf', model), ('dt', clf3)], weights=[1, 4, 1], voting='soft') \n",
    "\n",
    "ensemble_model.fit(train_X, train_Y)\n",
    "\n",
    "predicted = ensemble_model.predict(test_X)\n",
    "#probs = ensemble_model.predict_proba(test_X)\n",
    "\n",
    "print(\"Accuracy score:\\n\", accuracy_score(test_Y, predicted))\n",
    "print(\"Classification_report:\\n\",classification_report(test_Y, predicted))\n",
    "#print(\"AUC Score:\\n\",roc_auc_score(test_Y, probs[:, 1]))\n",
    "print(\"Confusion Matrix:\\n\",confusion_matrix(test_Y, predicted))"
   ]
  }
 ],
 "metadata": {
  "interpreter": {
   "hash": "bc00d7b8349d515c81f4f885ef3938981ce9779e6188f06d6696c602c9a08ee2"
  },
  "kernelspec": {
   "display_name": "Python 3.9.7 ('base')",
   "language": "python",
   "name": "python3"
  },
  "language_info": {
   "codemirror_mode": {
    "name": "ipython",
    "version": 3
   },
   "file_extension": ".py",
   "mimetype": "text/x-python",
   "name": "python",
   "nbconvert_exporter": "python",
   "pygments_lexer": "ipython3",
   "version": "3.9.7"
  },
  "orig_nbformat": 4
 },
 "nbformat": 4,
 "nbformat_minor": 2
}
